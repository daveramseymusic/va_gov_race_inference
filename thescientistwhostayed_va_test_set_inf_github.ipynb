{
 "cells": [
  {
   "cell_type": "markdown",
   "metadata": {},
   "source": [
    "# Dave's VA Gov's Race Test Set Accuracy from ULMFit Twitter Model \n",
    "Making NLP prediction on new datasets using FAST.ai\n",
    "### The functions were copied from Matthew SF Choo's article [HERE](https://scientistwhostayed.medium.com/making-nlp-predictions-on-new-datasets-using-fast-ai-4a9be5e07ba1)"
   ]
  },
  {
   "cell_type": "code",
   "execution_count": 2,
   "metadata": {},
   "outputs": [],
   "source": [
    "#install everything you need\n",
    "# !pip install -Uqq fastbook\n",
    "import fastbook\n",
    "fastbook.setup_book()\n",
    "from fastbook import *\n",
    "from IPython.display import display,HTML\n",
    "from fastai.text.all import *"
   ]
  },
  {
   "cell_type": "code",
   "execution_count": 3,
   "metadata": {},
   "outputs": [],
   "source": [
    "from pathlib import Path\n",
    "path = Path('/notebooks/clean/Tutorials')\n",
    "path2 = Path('/notebooks/clean/va_gov')"
   ]
  },
  {
   "cell_type": "markdown",
   "metadata": {},
   "source": [
    "Get Learner Func"
   ]
  },
  {
   "cell_type": "code",
   "execution_count": 4,
   "metadata": {},
   "outputs": [],
   "source": [
    "def get_learner_for_inference(export_model_path: str):\n",
    "    learn    = load_learner(export_model_path)\n",
    "    # ensure learner is loaded on gpu cuda\n",
    "    learn.dls.cuda()\n",
    "    \n",
    "    print(f'Learner stored on {learn.dls.device.type}')\n",
    "    return learn"
   ]
  },
  {
   "cell_type": "markdown",
   "metadata": {},
   "source": [
    "Get Preds Func"
   ]
  },
  {
   "cell_type": "code",
   "execution_count": 5,
   "metadata": {},
   "outputs": [],
   "source": [
    "def get_preds_from_series(s: pd.Series, learner: Learner):\n",
    "    # test_dl creates a new testing DataLoader \n",
    "    # using the pd.Series of text inputs\n",
    "    dl_test   = learner.dls.test_dl(s)\n",
    "    preds     = learner.get_preds(dl=dl_test)\n",
    "    \n",
    "\n",
    "#     return preds[0].numpy().flatten()\n",
    "    return preds[0].numpy()"
   ]
  },
  {
   "cell_type": "markdown",
   "metadata": {},
   "source": [
    "Load your df for inference/prediction"
   ]
  },
  {
   "cell_type": "code",
   "execution_count": 6,
   "metadata": {},
   "outputs": [],
   "source": [
    "df_test = pd.read_csv(path2/'va_test_set_250bl_250re_500rows_simple_label.csv')"
   ]
  },
  {
   "cell_type": "markdown",
   "metadata": {},
   "source": [
    "Run it"
   ]
  },
  {
   "cell_type": "code",
   "execution_count": 7,
   "metadata": {},
   "outputs": [
    {
     "name": "stdout",
     "output_type": "stream",
     "text": [
      "Learner stored on cuda\n"
     ]
    },
    {
     "data": {
      "text/html": [],
      "text/plain": [
       "<IPython.core.display.HTML object>"
      ]
     },
     "metadata": {},
     "output_type": "display_data"
    }
   ],
   "source": [
    "# learn, dls_clas = get_learner_for_inference('/path/to/awd_lstm_fully_trained_export')\n",
    "learn = get_learner_for_inference('/notebooks/clean/Tutorials/clas_va2_from_recall_best_1000_one_hundred_percent_accurate_ex.pkl')\n",
    "\n",
    "df_test[['pterry','pneither','pglenn']] = get_preds_from_series(\n",
    "                                        s = df_test.text,                                  \n",
    "                                          learner  = learn\n",
    "                              )"
   ]
  },
  {
   "cell_type": "code",
   "execution_count": 8,
   "metadata": {},
   "outputs": [],
   "source": [
    "df = df_test\n",
    "df.to_csv('va_test_set_250r_250bl_500rows_labeled_ML_inf.csv')"
   ]
  },
  {
   "cell_type": "markdown",
   "metadata": {},
   "source": [
    "# Model is 99% correct on what it trained on and 93.6% Accurate on the test set of 500 hand labeled tweets\n",
    "note:  all test tweets had hashtags.  This number could be double checked by having 250 tweets that do not have hashtags."
   ]
  },
  {
   "cell_type": "code",
   "execution_count": 9,
   "metadata": {},
   "outputs": [],
   "source": [
    "# label all pro terry preds 0 and all pro glenn preds 4\n",
    "conds = (df.pterry > df.pglenn)\n",
    "df['plabel'] = np.where(conds, 0,4)"
   ]
  },
  {
   "cell_type": "code",
   "execution_count": 10,
   "metadata": {},
   "outputs": [],
   "source": [
    "#convert df.label to integer type\n",
    "df['label'] = pd.to_numeric(df['label'],errors='coerce')\n",
    "df = df.replace(np.nan, 0, regex=True)\n",
    "df['label'] = df['label'].astype(int)"
   ]
  },
  {
   "cell_type": "code",
   "execution_count": 11,
   "metadata": {},
   "outputs": [],
   "source": [
    "# create is_correct column \n",
    "conds = (df.plabel == df.label)\n",
    "df['is_correct'] = np.where(conds, 1,0)"
   ]
  },
  {
   "cell_type": "markdown",
   "metadata": {},
   "source": [
    "### 93.6% Accuracy!!"
   ]
  },
  {
   "cell_type": "code",
   "execution_count": 12,
   "metadata": {},
   "outputs": [
    {
     "data": {
      "text/plain": [
       "0.936"
      ]
     },
     "execution_count": 12,
     "metadata": {},
     "output_type": "execute_result"
    }
   ],
   "source": [
    "# check to see your Accuracy\n",
    "df.is_correct.sum()/len(df)"
   ]
  },
  {
   "cell_type": "code",
   "execution_count": 14,
   "metadata": {},
   "outputs": [
    {
     "data": {
      "text/html": [
       "<div>\n",
       "<style scoped>\n",
       "    .dataframe tbody tr th:only-of-type {\n",
       "        vertical-align: middle;\n",
       "    }\n",
       "\n",
       "    .dataframe tbody tr th {\n",
       "        vertical-align: top;\n",
       "    }\n",
       "\n",
       "    .dataframe thead th {\n",
       "        text-align: right;\n",
       "    }\n",
       "</style>\n",
       "<table border=\"1\" class=\"dataframe\">\n",
       "  <thead>\n",
       "    <tr style=\"text-align: right;\">\n",
       "      <th></th>\n",
       "      <th>idx</th>\n",
       "      <th>label</th>\n",
       "      <th>text</th>\n",
       "      <th>id</th>\n",
       "      <th>timestamp</th>\n",
       "      <th>pterry</th>\n",
       "      <th>pneither</th>\n",
       "      <th>pglenn</th>\n",
       "      <th>plabel</th>\n",
       "      <th>is_correct</th>\n",
       "    </tr>\n",
       "  </thead>\n",
       "  <tbody>\n",
       "    <tr>\n",
       "      <th>0</th>\n",
       "      <td>0</td>\n",
       "      <td>4</td>\n",
       "      <td>no word from working parents of school children affected by a decision to close schools in richmond on their “burnout” status. #winwithglenn https://t.co/dyafscuhew</td>\n",
       "      <td>1.4517554138425836e+18</td>\n",
       "      <td>2021-10-23 03:40:37</td>\n",
       "      <td>0.000543</td>\n",
       "      <td>2.106327e-06</td>\n",
       "      <td>0.999455</td>\n",
       "      <td>4</td>\n",
       "      <td>1</td>\n",
       "    </tr>\n",
       "    <tr>\n",
       "      <th>1</th>\n",
       "      <td>1</td>\n",
       "      <td>4</td>\n",
       "      <td>@terrymcauliffe \\nparents out of their kids education? \\n\\nendorsing crt?\\n\\nscooter braun did donate to dnc virginians! \\n\\ncomplicit with the clintons and other people in power?\\n\\nfailed \"green\" business? \\n\\n#vagov #vapol #twofacedterry #winwithglenn</td>\n",
       "      <td>1.4468911168471122e+18</td>\n",
       "      <td>2021-10-09 17:31:38</td>\n",
       "      <td>0.001112</td>\n",
       "      <td>9.618165e-06</td>\n",
       "      <td>0.998878</td>\n",
       "      <td>4</td>\n",
       "      <td>1</td>\n",
       "    </tr>\n",
       "    <tr>\n",
       "      <th>2</th>\n",
       "      <td>2</td>\n",
       "      <td>4</td>\n",
       "      <td>i’ve had the worst work  day. i’ll be up all night. i didn’t even get to watch #themattwalshshow and i’m even wearing my new #sbg shirt. #sad but the  princess is on her throne and there is live #truecrime to watch. #brianlaundrie is dead. btw #winwithglenn https://t.co/v16dibcgla</td>\n",
       "      <td>1.450934872638382e+18</td>\n",
       "      <td>2021-10-20 21:20:05</td>\n",
       "      <td>0.012246</td>\n",
       "      <td>7.121306e-10</td>\n",
       "      <td>0.987754</td>\n",
       "      <td>4</td>\n",
       "      <td>1</td>\n",
       "    </tr>\n",
       "    <tr>\n",
       "      <th>3</th>\n",
       "      <td>3</td>\n",
       "      <td>4</td>\n",
       "      <td>mcauliffe wanted $25,000 to hear parent concerns\\n\\n...about @coalitionfortj insights on fairfax effort to end meritocracy-based admissions to tjhsst, the #1 high school in america \\n\\na $25,000 ‘donation’ to meet with parents - via zoom?! watch ⤵️\\n\\n#winwithglenn #vagov https://t.co/kdk0onn4jg</td>\n",
       "      <td>1.4546670121903964e+18</td>\n",
       "      <td>2021-10-31 04:30:16</td>\n",
       "      <td>0.001104</td>\n",
       "      <td>1.250228e-07</td>\n",
       "      <td>0.998896</td>\n",
       "      <td>4</td>\n",
       "      <td>1</td>\n",
       "    </tr>\n",
       "    <tr>\n",
       "      <th>4</th>\n",
       "      <td>4</td>\n",
       "      <td>4</td>\n",
       "      <td>#virginia democrats voted to allow schools to refrain from reporting sexual battery in 2020: #vagov #vapol #parentsmatter #winwithglenn #fairfax #loudouncounty #nova #swva #nrv https://t.co/pb2zvs8tgi</td>\n",
       "      <td>1.448912698733998e+18</td>\n",
       "      <td>2021-10-15 07:24:41</td>\n",
       "      <td>0.000560</td>\n",
       "      <td>2.347651e-07</td>\n",
       "      <td>0.999440</td>\n",
       "      <td>4</td>\n",
       "      <td>1</td>\n",
       "    </tr>\n",
       "    <tr>\n",
       "      <th>5</th>\n",
       "      <td>5</td>\n",
       "      <td>4</td>\n",
       "      <td>@lion_politics #winwithglenn</td>\n",
       "      <td>1.446912583991169e+18</td>\n",
       "      <td>2021-10-09 18:56:57</td>\n",
       "      <td>0.000007</td>\n",
       "      <td>8.902466e-09</td>\n",
       "      <td>0.999993</td>\n",
       "      <td>4</td>\n",
       "      <td>1</td>\n",
       "    </tr>\n",
       "    <tr>\n",
       "      <th>6</th>\n",
       "      <td>6</td>\n",
       "      <td>4</td>\n",
       "      <td>#winwithglenn\\namericans, \"alabama pastor who raped, impregnated 14-year-old won't face jail, and not registered sex offended\"\\n\\nrepubnant leaders want to bring back legalized rape😡 https://t.co/lx9lvc4s1m</td>\n",
       "      <td>1.451700983965311e+18</td>\n",
       "      <td>2021-10-23 00:04:20</td>\n",
       "      <td>0.091900</td>\n",
       "      <td>1.454404e-05</td>\n",
       "      <td>0.908086</td>\n",
       "      <td>4</td>\n",
       "      <td>1</td>\n",
       "    </tr>\n",
       "    <tr>\n",
       "      <th>7</th>\n",
       "      <td>7</td>\n",
       "      <td>4</td>\n",
       "      <td>@lisamarieboothe #winwithglenn \\n#vagov \\n#parentsforyoungkin \\n#parentsmatter \\n\\n🇺🇸♥️♥️♥️🇺🇸</td>\n",
       "      <td>1.45555284640179e+18</td>\n",
       "      <td>2021-11-02 15:10:16</td>\n",
       "      <td>0.001579</td>\n",
       "      <td>1.420811e-10</td>\n",
       "      <td>0.998421</td>\n",
       "      <td>4</td>\n",
       "      <td>1</td>\n",
       "    </tr>\n",
       "    <tr>\n",
       "      <th>8</th>\n",
       "      <td>8</td>\n",
       "      <td>4</td>\n",
       "      <td>i can feel the energy and momentum for glenn youngkin all the way here in michigan. praying for you and your team @glennyoungkin! #winwithglenn</td>\n",
       "      <td>1.455555197846106e+18</td>\n",
       "      <td>2021-11-02 15:19:36</td>\n",
       "      <td>0.005027</td>\n",
       "      <td>8.958877e-08</td>\n",
       "      <td>0.994973</td>\n",
       "      <td>4</td>\n",
       "      <td>1</td>\n",
       "    </tr>\n",
       "    <tr>\n",
       "      <th>9</th>\n",
       "      <td>9</td>\n",
       "      <td>4</td>\n",
       "      <td>only 1⃣7⃣ days and 3⃣ more saturdays until election day, and we are making the most of it here in springfield. i talked to a voter who has been a democrat for a long time and is excited to #winwithglenn this november.\\n\\nwant to join us? feel free to dm me or reply to this post! https://t.co/asb6a6xpaj</td>\n",
       "      <td>1.4494938290910085e+18</td>\n",
       "      <td>2021-10-16 21:53:53</td>\n",
       "      <td>0.000422</td>\n",
       "      <td>1.574140e-05</td>\n",
       "      <td>0.999562</td>\n",
       "      <td>4</td>\n",
       "      <td>1</td>\n",
       "    </tr>\n",
       "    <tr>\n",
       "      <th>10</th>\n",
       "      <td>10</td>\n",
       "      <td>4</td>\n",
       "      <td>democrats panic as glenn youngkin rally draws thousands one week before election day | alex caldwell https://t.co/khyq86nwlp ~ #winwithglenn #virginia</td>\n",
       "      <td>1.452775364233597e+18</td>\n",
       "      <td>2021-10-25 23:13:32</td>\n",
       "      <td>0.067484</td>\n",
       "      <td>8.533227e-06</td>\n",
       "      <td>0.932507</td>\n",
       "      <td>4</td>\n",
       "      <td>1</td>\n",
       "    </tr>\n",
       "    <tr>\n",
       "      <th>11</th>\n",
       "      <td>11</td>\n",
       "      <td>2</td>\n",
       "      <td>@glennyoungkin energy in virginia!\\n\\namericans, join together, and build make better🎊🙂🎊\\n\\ntrumpkin using our children as political pawns, shameless 😫 nothing to offer but lies😡\\n\\n#10forglenn #winwithglenn\\n#ganaconglenn #vapol #virginia #virginiabeach #voteblue #vagov\\nhttps://t.co/mtw046egsd</td>\n",
       "      <td>1.453480526363439e+18</td>\n",
       "      <td>2021-10-27 21:55:36</td>\n",
       "      <td>0.000426</td>\n",
       "      <td>1.462364e-06</td>\n",
       "      <td>0.999573</td>\n",
       "      <td>4</td>\n",
       "      <td>0</td>\n",
       "    </tr>\n",
       "    <tr>\n",
       "      <th>12</th>\n",
       "      <td>12</td>\n",
       "      <td>4</td>\n",
       "      <td>#winwithglenn #parentsmatter #ftm https://t.co/5ii9e0rzxm</td>\n",
       "      <td>1.4527536040503624e+18</td>\n",
       "      <td>2021-10-25 21:47:04</td>\n",
       "      <td>0.000006</td>\n",
       "      <td>1.075466e-09</td>\n",
       "      <td>0.999994</td>\n",
       "      <td>4</td>\n",
       "      <td>1</td>\n",
       "    </tr>\n",
       "    <tr>\n",
       "      <th>13</th>\n",
       "      <td>13</td>\n",
       "      <td>4</td>\n",
       "      <td>vote like your life depends on it ! call your friends and family and remind them to vote . your vote can stop this , go out and vote #winwithglenn @glennyoungkin https://t.co/qo99exglle</td>\n",
       "      <td>1.455547065862402e+18</td>\n",
       "      <td>2021-11-02 14:47:17</td>\n",
       "      <td>0.000376</td>\n",
       "      <td>1.672499e-06</td>\n",
       "      <td>0.999622</td>\n",
       "      <td>4</td>\n",
       "      <td>1</td>\n",
       "    </tr>\n",
       "    <tr>\n",
       "      <th>14</th>\n",
       "      <td>14</td>\n",
       "      <td>4</td>\n",
       "      <td>#winwithglenn  #vagov https://t.co/vl3llggobg</td>\n",
       "      <td>1.453860642146902e+18</td>\n",
       "      <td>2021-10-28 23:06:03</td>\n",
       "      <td>0.000001</td>\n",
       "      <td>9.170389e-10</td>\n",
       "      <td>0.999999</td>\n",
       "      <td>4</td>\n",
       "      <td>1</td>\n",
       "    </tr>\n",
       "  </tbody>\n",
       "</table>\n",
       "</div>"
      ],
      "text/plain": [
       "    idx  label  \\\n",
       "0     0      4   \n",
       "1     1      4   \n",
       "2     2      4   \n",
       "3     3      4   \n",
       "4     4      4   \n",
       "5     5      4   \n",
       "6     6      4   \n",
       "7     7      4   \n",
       "8     8      4   \n",
       "9     9      4   \n",
       "10   10      4   \n",
       "11   11      2   \n",
       "12   12      4   \n",
       "13   13      4   \n",
       "14   14      4   \n",
       "\n",
       "                                                                                                                                                                                                                                                                                                               text  \\\n",
       "0                                                                                                                                              no word from working parents of school children affected by a decision to close schools in richmond on their “burnout” status. #winwithglenn https://t.co/dyafscuhew   \n",
       "1                                                    @terrymcauliffe \\nparents out of their kids education? \\n\\nendorsing crt?\\n\\nscooter braun did donate to dnc virginians! \\n\\ncomplicit with the clintons and other people in power?\\n\\nfailed \"green\" business? \\n\\n#vagov #vapol #twofacedterry #winwithglenn   \n",
       "2                         i’ve had the worst work  day. i’ll be up all night. i didn’t even get to watch #themattwalshshow and i’m even wearing my new #sbg shirt. #sad but the  princess is on her throne and there is live #truecrime to watch. #brianlaundrie is dead. btw #winwithglenn https://t.co/v16dibcgla   \n",
       "3          mcauliffe wanted $25,000 to hear parent concerns\\n\\n...about @coalitionfortj insights on fairfax effort to end meritocracy-based admissions to tjhsst, the #1 high school in america \\n\\na $25,000 ‘donation’ to meet with parents - via zoom?! watch ⤵️\\n\\n#winwithglenn #vagov https://t.co/kdk0onn4jg   \n",
       "4                                                                                                          #virginia democrats voted to allow schools to refrain from reporting sexual battery in 2020: #vagov #vapol #parentsmatter #winwithglenn #fairfax #loudouncounty #nova #swva #nrv https://t.co/pb2zvs8tgi   \n",
       "5                                                                                                                                                                                                                                                                                      @lion_politics #winwithglenn   \n",
       "6                                                                                                    #winwithglenn\\namericans, \"alabama pastor who raped, impregnated 14-year-old won't face jail, and not registered sex offended\"\\n\\nrepubnant leaders want to bring back legalized rape😡 https://t.co/lx9lvc4s1m   \n",
       "7                                                                                                                                                                                                                     @lisamarieboothe #winwithglenn \\n#vagov \\n#parentsforyoungkin \\n#parentsmatter \\n\\n🇺🇸♥️♥️♥️🇺🇸   \n",
       "8                                                                                                                                                                   i can feel the energy and momentum for glenn youngkin all the way here in michigan. praying for you and your team @glennyoungkin! #winwithglenn   \n",
       "9   only 1⃣7⃣ days and 3⃣ more saturdays until election day, and we are making the most of it here in springfield. i talked to a voter who has been a democrat for a long time and is excited to #winwithglenn this november.\\n\\nwant to join us? feel free to dm me or reply to this post! https://t.co/asb6a6xpaj   \n",
       "10                                                                                                                                                           democrats panic as glenn youngkin rally draws thousands one week before election day | alex caldwell https://t.co/khyq86nwlp ~ #winwithglenn #virginia   \n",
       "11         @glennyoungkin energy in virginia!\\n\\namericans, join together, and build make better🎊🙂🎊\\n\\ntrumpkin using our children as political pawns, shameless 😫 nothing to offer but lies😡\\n\\n#10forglenn #winwithglenn\\n#ganaconglenn #vapol #virginia #virginiabeach #voteblue #vagov\\nhttps://t.co/mtw046egsd   \n",
       "12                                                                                                                                                                                                                                                        #winwithglenn #parentsmatter #ftm https://t.co/5ii9e0rzxm   \n",
       "13                                                                                                                        vote like your life depends on it ! call your friends and family and remind them to vote . your vote can stop this , go out and vote #winwithglenn @glennyoungkin https://t.co/qo99exglle   \n",
       "14                                                                                                                                                                                                                                                                    #winwithglenn  #vagov https://t.co/vl3llggobg   \n",
       "\n",
       "                        id            timestamp    pterry      pneither  \\\n",
       "0   1.4517554138425836e+18  2021-10-23 03:40:37  0.000543  2.106327e-06   \n",
       "1   1.4468911168471122e+18  2021-10-09 17:31:38  0.001112  9.618165e-06   \n",
       "2    1.450934872638382e+18  2021-10-20 21:20:05  0.012246  7.121306e-10   \n",
       "3   1.4546670121903964e+18  2021-10-31 04:30:16  0.001104  1.250228e-07   \n",
       "4    1.448912698733998e+18  2021-10-15 07:24:41  0.000560  2.347651e-07   \n",
       "5    1.446912583991169e+18  2021-10-09 18:56:57  0.000007  8.902466e-09   \n",
       "6    1.451700983965311e+18  2021-10-23 00:04:20  0.091900  1.454404e-05   \n",
       "7     1.45555284640179e+18  2021-11-02 15:10:16  0.001579  1.420811e-10   \n",
       "8    1.455555197846106e+18  2021-11-02 15:19:36  0.005027  8.958877e-08   \n",
       "9   1.4494938290910085e+18  2021-10-16 21:53:53  0.000422  1.574140e-05   \n",
       "10   1.452775364233597e+18  2021-10-25 23:13:32  0.067484  8.533227e-06   \n",
       "11   1.453480526363439e+18  2021-10-27 21:55:36  0.000426  1.462364e-06   \n",
       "12  1.4527536040503624e+18  2021-10-25 21:47:04  0.000006  1.075466e-09   \n",
       "13   1.455547065862402e+18  2021-11-02 14:47:17  0.000376  1.672499e-06   \n",
       "14   1.453860642146902e+18  2021-10-28 23:06:03  0.000001  9.170389e-10   \n",
       "\n",
       "      pglenn  plabel  is_correct  \n",
       "0   0.999455       4           1  \n",
       "1   0.998878       4           1  \n",
       "2   0.987754       4           1  \n",
       "3   0.998896       4           1  \n",
       "4   0.999440       4           1  \n",
       "5   0.999993       4           1  \n",
       "6   0.908086       4           1  \n",
       "7   0.998421       4           1  \n",
       "8   0.994973       4           1  \n",
       "9   0.999562       4           1  \n",
       "10  0.932507       4           1  \n",
       "11  0.999573       4           0  \n",
       "12  0.999994       4           1  \n",
       "13  0.999622       4           1  \n",
       "14  0.999999       4           1  "
      ]
     },
     "execution_count": 14,
     "metadata": {},
     "output_type": "execute_result"
    }
   ],
   "source": [
    "df.head(15)"
   ]
  },
  {
   "cell_type": "code",
   "execution_count": null,
   "metadata": {},
   "outputs": [],
   "source": []
  }
 ],
 "metadata": {
  "kernelspec": {
   "display_name": "Python 3",
   "language": "python",
   "name": "python3"
  },
  "language_info": {
   "codemirror_mode": {
    "name": "ipython",
    "version": 3
   },
   "file_extension": ".py",
   "mimetype": "text/x-python",
   "name": "python",
   "nbconvert_exporter": "python",
   "pygments_lexer": "ipython3",
   "version": "3.8.6"
  }
 },
 "nbformat": 4,
 "nbformat_minor": 4
}
